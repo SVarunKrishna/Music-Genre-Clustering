{
 "cells": [
  {
   "cell_type": "markdown",
   "id": "b88b5f2d",
   "metadata": {
    "papermill": {
     "duration": 0.00524,
     "end_time": "2023-06-03T22:00:20.502251",
     "exception": false,
     "start_time": "2023-06-03T22:00:20.497011",
     "status": "completed"
    },
    "tags": []
   },
   "source": [
    "# Clustering Music Genres"
   ]
  },
  {
   "cell_type": "code",
   "execution_count": 19,
   "id": "548309eb",
   "metadata": {
    "execution": {
     "iopub.execute_input": "2023-06-03T22:00:20.525852Z",
     "iopub.status.busy": "2023-06-03T22:00:20.525318Z",
     "iopub.status.idle": "2023-06-03T22:00:22.574912Z",
     "shell.execute_reply": "2023-06-03T22:00:22.573754Z"
    },
    "papermill": {
     "duration": 2.059146,
     "end_time": "2023-06-03T22:00:22.577612",
     "exception": false,
     "start_time": "2023-06-03T22:00:20.518466",
     "status": "completed"
    },
    "tags": []
   },
   "outputs": [
    {
     "name": "stdout",
     "output_type": "stream",
     "text": [
      "   Index                   Title             Artist            Top Genre  \\\n",
      "0      1                 Sunrise        Norah Jones      adult standards   \n",
      "1      2             Black Night        Deep Purple           album rock   \n",
      "2      3          Clint Eastwood           Gorillaz  alternative hip hop   \n",
      "3      4           The Pretender       Foo Fighters    alternative metal   \n",
      "4      5  Waitin' On A Sunny Day  Bruce Springsteen         classic rock   \n",
      "\n",
      "   Year  Beats Per Minute (BPM)  Energy  Danceability  Loudness (dB)  \\\n",
      "0  2004                     157      30            53            -14   \n",
      "1  2000                     135      79            50            -11   \n",
      "2  2001                     168      69            66             -9   \n",
      "3  2007                     173      96            43             -4   \n",
      "4  2002                     106      82            58             -5   \n",
      "\n",
      "   Liveness  Valence Length (Duration)  Acousticness  Speechiness  Popularity  \n",
      "0        11       68               201            94            3          71  \n",
      "1        17       81               207            17            7          39  \n",
      "2         7       52               341             2           17          69  \n",
      "3         3       37               269             0            4          76  \n",
      "4        10       87               256             1            3          59  \n"
     ]
    }
   ],
   "source": [
    "import pandas as pd\n",
    "import numpy as np\n",
    "from sklearn import cluster\n",
    "\n",
    "data = pd.read_csv(r\"C:\\Users\\bhara\\Downloads\\VK/Spotify-2000.csv\")\n",
    "print(data.head())"
   ]
  },
  {
   "cell_type": "code",
   "execution_count": 20,
   "id": "36288b79",
   "metadata": {
    "execution": {
     "iopub.execute_input": "2023-06-03T22:00:22.591080Z",
     "iopub.status.busy": "2023-06-03T22:00:22.590680Z",
     "iopub.status.idle": "2023-06-03T22:00:22.606044Z",
     "shell.execute_reply": "2023-06-03T22:00:22.604842Z"
    },
    "papermill": {
     "duration": 0.024828,
     "end_time": "2023-06-03T22:00:22.608440",
     "exception": false,
     "start_time": "2023-06-03T22:00:22.583612",
     "status": "completed"
    },
    "tags": []
   },
   "outputs": [
    {
     "data": {
      "text/plain": [
       "Index                     0\n",
       "Title                     0\n",
       "Artist                    0\n",
       "Top Genre                 0\n",
       "Year                      0\n",
       "Beats Per Minute (BPM)    0\n",
       "Energy                    0\n",
       "Danceability              0\n",
       "Loudness (dB)             0\n",
       "Liveness                  0\n",
       "Valence                   0\n",
       "Length (Duration)         0\n",
       "Acousticness              0\n",
       "Speechiness               0\n",
       "Popularity                0\n",
       "dtype: int64"
      ]
     },
     "execution_count": 20,
     "metadata": {},
     "output_type": "execute_result"
    }
   ],
   "source": [
    "data.isnull().sum()"
   ]
  },
  {
   "cell_type": "code",
   "execution_count": 21,
   "id": "00e80210",
   "metadata": {
    "execution": {
     "iopub.execute_input": "2023-06-03T22:00:22.624500Z",
     "iopub.status.busy": "2023-06-03T22:00:22.623819Z",
     "iopub.status.idle": "2023-06-03T22:00:22.649173Z",
     "shell.execute_reply": "2023-06-03T22:00:22.647961Z"
    },
    "papermill": {
     "duration": 0.037107,
     "end_time": "2023-06-03T22:00:22.651779",
     "exception": false,
     "start_time": "2023-06-03T22:00:22.614672",
     "status": "completed"
    },
    "tags": []
   },
   "outputs": [
    {
     "data": {
      "text/plain": [
       "Index                     True\n",
       "Title                     True\n",
       "Artist                    True\n",
       "Top Genre                 True\n",
       "Year                      True\n",
       "Beats Per Minute (BPM)    True\n",
       "Energy                    True\n",
       "Danceability              True\n",
       "Loudness (dB)             True\n",
       "Liveness                  True\n",
       "Valence                   True\n",
       "Length (Duration)         True\n",
       "Acousticness              True\n",
       "Speechiness               True\n",
       "Popularity                True\n",
       "dtype: bool"
      ]
     },
     "execution_count": 21,
     "metadata": {},
     "output_type": "execute_result"
    }
   ],
   "source": [
    "#Any drop_duplicates values from the data frame\n",
    "data.drop_duplicates().any()"
   ]
  },
  {
   "cell_type": "code",
   "execution_count": 22,
   "id": "b3c295a3",
   "metadata": {
    "execution": {
     "iopub.execute_input": "2023-06-03T22:00:22.666487Z",
     "iopub.status.busy": "2023-06-03T22:00:22.665508Z",
     "iopub.status.idle": "2023-06-03T22:00:22.671435Z",
     "shell.execute_reply": "2023-06-03T22:00:22.670562Z"
    },
    "papermill": {
     "duration": 0.015721,
     "end_time": "2023-06-03T22:00:22.673775",
     "exception": false,
     "start_time": "2023-06-03T22:00:22.658054",
     "status": "completed"
    },
    "tags": []
   },
   "outputs": [],
   "source": [
    "data = data.drop(\"Index\", axis=1)"
   ]
  },
  {
   "cell_type": "code",
   "execution_count": 23,
   "id": "25bffe00",
   "metadata": {
    "execution": {
     "iopub.execute_input": "2023-06-03T22:00:22.688873Z",
     "iopub.status.busy": "2023-06-03T22:00:22.688209Z",
     "iopub.status.idle": "2023-06-03T22:00:22.704434Z",
     "shell.execute_reply": "2023-06-03T22:00:22.702365Z"
    },
    "papermill": {
     "duration": 0.026806,
     "end_time": "2023-06-03T22:00:22.706889",
     "exception": false,
     "start_time": "2023-06-03T22:00:22.680083",
     "status": "completed"
    },
    "tags": []
   },
   "outputs": [
    {
     "name": "stdout",
     "output_type": "stream",
     "text": [
      "Title                     object\n",
      "Artist                    object\n",
      "Top Genre                 object\n",
      "Year                       int64\n",
      "Beats Per Minute (BPM)     int64\n",
      "Energy                     int64\n",
      "Danceability               int64\n",
      "Loudness (dB)              int64\n",
      "Liveness                   int64\n",
      "Valence                    int64\n",
      "Length (Duration)         object\n",
      "Acousticness               int64\n",
      "Speechiness                int64\n",
      "Popularity                 int64\n",
      "dtype: object\n"
     ]
    }
   ],
   "source": [
    "#the correlation between all the audio features in the dataset\n",
    "print(data.dtypes)\n"
   ]
  },
  {
   "cell_type": "markdown",
   "id": "69431642",
   "metadata": {
    "papermill": {
     "duration": 0.006164,
     "end_time": "2023-06-03T22:00:22.719973",
     "exception": false,
     "start_time": "2023-06-03T22:00:22.713809",
     "status": "completed"
    },
    "tags": []
   },
   "source": [
    "Clustering Analysis of Audio Features"
   ]
  },
  {
   "cell_type": "code",
   "execution_count": 24,
   "id": "ef9214a7",
   "metadata": {
    "execution": {
     "iopub.execute_input": "2023-06-03T22:00:22.735885Z",
     "iopub.status.busy": "2023-06-03T22:00:22.735448Z",
     "iopub.status.idle": "2023-06-03T22:00:22.742938Z",
     "shell.execute_reply": "2023-06-03T22:00:22.741782Z"
    },
    "papermill": {
     "duration": 0.017896,
     "end_time": "2023-06-03T22:00:22.745234",
     "exception": false,
     "start_time": "2023-06-03T22:00:22.727338",
     "status": "completed"
    },
    "tags": []
   },
   "outputs": [],
   "source": [
    "data2 = data[[\"Beats Per Minute (BPM)\", \"Loudness (dB)\", \n",
    "              \"Liveness\", \"Valence\", \"Acousticness\", \n",
    "              \"Speechiness\"]]\n",
    "\n",
    "from sklearn.preprocessing import MinMaxScaler\n",
    "for i in data.columns:\n",
    "    MinMaxScaler(i)"
   ]
  },
  {
   "cell_type": "code",
   "execution_count": 25,
   "id": "59f5348a",
   "metadata": {
    "execution": {
     "iopub.execute_input": "2023-06-03T22:00:22.759996Z",
     "iopub.status.busy": "2023-06-03T22:00:22.759541Z",
     "iopub.status.idle": "2023-06-03T22:00:24.155855Z",
     "shell.execute_reply": "2023-06-03T22:00:24.154914Z"
    },
    "papermill": {
     "duration": 1.40662,
     "end_time": "2023-06-03T22:00:24.158388",
     "exception": false,
     "start_time": "2023-06-03T22:00:22.751768",
     "status": "completed"
    },
    "tags": []
   },
   "outputs": [],
   "source": [
    "#The KMeans class in the sklearn module can be used to cluster data into a specified number of clusters.The code then fits the K-Means model to the audio features\n",
    "from sklearn.cluster import KMeans\n",
    "kmeans = KMeans(n_clusters=10)\n",
    "clusters = kmeans.fit_predict(data2)"
   ]
  },
  {
   "cell_type": "code",
   "execution_count": 26,
   "id": "66a06d3c",
   "metadata": {
    "execution": {
     "iopub.execute_input": "2023-06-03T22:00:24.175403Z",
     "iopub.status.busy": "2023-06-03T22:00:24.174261Z",
     "iopub.status.idle": "2023-06-03T22:00:24.185349Z",
     "shell.execute_reply": "2023-06-03T22:00:24.184089Z"
    },
    "papermill": {
     "duration": 0.022449,
     "end_time": "2023-06-03T22:00:24.188035",
     "exception": false,
     "start_time": "2023-06-03T22:00:24.165586",
     "status": "completed"
    },
    "tags": []
   },
   "outputs": [
    {
     "name": "stdout",
     "output_type": "stream",
     "text": [
      "                    Title             Artist            Top Genre  Year  \\\n",
      "0                 Sunrise        Norah Jones      adult standards  2004   \n",
      "1             Black Night        Deep Purple           album rock  2000   \n",
      "2          Clint Eastwood           Gorillaz  alternative hip hop  2001   \n",
      "3           The Pretender       Foo Fighters    alternative metal  2007   \n",
      "4  Waitin' On A Sunny Day  Bruce Springsteen         classic rock  2002   \n",
      "\n",
      "   Beats Per Minute (BPM)  Energy  Danceability  Loudness (dB)  Liveness  \\\n",
      "0                     157      30            53            -14        11   \n",
      "1                     135      79            50            -11        17   \n",
      "2                     168      69            66             -9         7   \n",
      "3                     173      96            43             -4         3   \n",
      "4                     106      82            58             -5        10   \n",
      "\n",
      "   Valence Length (Duration)  Acousticness  Speechiness  Popularity  \n",
      "0       68               201            94            3          71  \n",
      "1       81               207            17            7          39  \n",
      "2       52               341             2           17          69  \n",
      "3       37               269             0            4          76  \n",
      "4       87               256             1            3          59  \n"
     ]
    }
   ],
   "source": [
    "print(data.head())"
   ]
  },
  {
   "cell_type": "code",
   "execution_count": 27,
   "id": "9f8efdb5",
   "metadata": {
    "execution": {
     "iopub.execute_input": "2023-06-03T22:00:24.203892Z",
     "iopub.status.busy": "2023-06-03T22:00:24.203454Z",
     "iopub.status.idle": "2023-06-03T22:00:24.224688Z",
     "shell.execute_reply": "2023-06-03T22:00:24.223525Z"
    },
    "papermill": {
     "duration": 0.032544,
     "end_time": "2023-06-03T22:00:24.227309",
     "exception": false,
     "start_time": "2023-06-03T22:00:24.194765",
     "status": "completed"
    },
    "tags": []
   },
   "outputs": [
    {
     "data": {
      "text/html": [
       "<div>\n",
       "<style scoped>\n",
       "    .dataframe tbody tr th:only-of-type {\n",
       "        vertical-align: middle;\n",
       "    }\n",
       "\n",
       "    .dataframe tbody tr th {\n",
       "        vertical-align: top;\n",
       "    }\n",
       "\n",
       "    .dataframe thead th {\n",
       "        text-align: right;\n",
       "    }\n",
       "</style>\n",
       "<table border=\"1\" class=\"dataframe\">\n",
       "  <thead>\n",
       "    <tr style=\"text-align: right;\">\n",
       "      <th></th>\n",
       "      <th>Beats Per Minute (BPM)</th>\n",
       "    </tr>\n",
       "  </thead>\n",
       "  <tbody>\n",
       "    <tr>\n",
       "      <th>0</th>\n",
       "      <td>157</td>\n",
       "    </tr>\n",
       "    <tr>\n",
       "      <th>1</th>\n",
       "      <td>135</td>\n",
       "    </tr>\n",
       "    <tr>\n",
       "      <th>2</th>\n",
       "      <td>168</td>\n",
       "    </tr>\n",
       "    <tr>\n",
       "      <th>3</th>\n",
       "      <td>173</td>\n",
       "    </tr>\n",
       "    <tr>\n",
       "      <th>4</th>\n",
       "      <td>106</td>\n",
       "    </tr>\n",
       "    <tr>\n",
       "      <th>...</th>\n",
       "      <td>...</td>\n",
       "    </tr>\n",
       "    <tr>\n",
       "      <th>1989</th>\n",
       "      <td>94</td>\n",
       "    </tr>\n",
       "    <tr>\n",
       "      <th>1990</th>\n",
       "      <td>175</td>\n",
       "    </tr>\n",
       "    <tr>\n",
       "      <th>1991</th>\n",
       "      <td>168</td>\n",
       "    </tr>\n",
       "    <tr>\n",
       "      <th>1992</th>\n",
       "      <td>174</td>\n",
       "    </tr>\n",
       "    <tr>\n",
       "      <th>1993</th>\n",
       "      <td>133</td>\n",
       "    </tr>\n",
       "  </tbody>\n",
       "</table>\n",
       "<p>1994 rows × 1 columns</p>\n",
       "</div>"
      ],
      "text/plain": [
       "      Beats Per Minute (BPM)\n",
       "0                        157\n",
       "1                        135\n",
       "2                        168\n",
       "3                        173\n",
       "4                        106\n",
       "...                      ...\n",
       "1989                      94\n",
       "1990                     175\n",
       "1991                     168\n",
       "1992                     174\n",
       "1993                     133\n",
       "\n",
       "[1994 rows x 1 columns]"
      ]
     },
     "execution_count": 27,
     "metadata": {},
     "output_type": "execute_result"
    }
   ],
   "source": [
    "data[['Beats Per Minute (BPM)']]"
   ]
  },
  {
   "cell_type": "code",
   "execution_count": 28,
   "id": "c90bed3e",
   "metadata": {},
   "outputs": [
    {
     "name": "stdout",
     "output_type": "stream",
     "text": [
      "Requirement already satisfied: nbformat in c:\\users\\bhara\\appdata\\local\\programs\\python\\python312\\lib\\site-packages (5.10.4)\n",
      "Requirement already satisfied: fastjsonschema>=2.15 in c:\\users\\bhara\\appdata\\local\\programs\\python\\python312\\lib\\site-packages (from nbformat) (2.21.1)\n",
      "Requirement already satisfied: jsonschema>=2.6 in c:\\users\\bhara\\appdata\\local\\programs\\python\\python312\\lib\\site-packages (from nbformat) (4.23.0)\n",
      "Requirement already satisfied: jupyter-core!=5.0.*,>=4.12 in c:\\users\\bhara\\appdata\\roaming\\python\\python312\\site-packages (from nbformat) (5.7.2)\n",
      "Requirement already satisfied: traitlets>=5.1 in c:\\users\\bhara\\appdata\\roaming\\python\\python312\\site-packages (from nbformat) (5.14.3)\n",
      "Requirement already satisfied: attrs>=22.2.0 in c:\\users\\bhara\\appdata\\local\\programs\\python\\python312\\lib\\site-packages (from jsonschema>=2.6->nbformat) (25.3.0)\n",
      "Requirement already satisfied: jsonschema-specifications>=2023.03.6 in c:\\users\\bhara\\appdata\\local\\programs\\python\\python312\\lib\\site-packages (from jsonschema>=2.6->nbformat) (2024.10.1)\n",
      "Requirement already satisfied: referencing>=0.28.4 in c:\\users\\bhara\\appdata\\local\\programs\\python\\python312\\lib\\site-packages (from jsonschema>=2.6->nbformat) (0.36.2)\n",
      "Requirement already satisfied: rpds-py>=0.7.1 in c:\\users\\bhara\\appdata\\local\\programs\\python\\python312\\lib\\site-packages (from jsonschema>=2.6->nbformat) (0.23.1)\n",
      "Requirement already satisfied: platformdirs>=2.5 in c:\\users\\bhara\\appdata\\roaming\\python\\python312\\site-packages (from jupyter-core!=5.0.*,>=4.12->nbformat) (4.2.2)\n",
      "Requirement already satisfied: pywin32>=300 in c:\\users\\bhara\\appdata\\local\\programs\\python\\python312\\lib\\site-packages (from jupyter-core!=5.0.*,>=4.12->nbformat) (306)\n",
      "Requirement already satisfied: typing-extensions>=4.4.0 in c:\\users\\bhara\\appdata\\local\\programs\\python\\python312\\lib\\site-packages (from referencing>=0.28.4->jsonschema>=2.6->nbformat) (4.12.2)\n"
     ]
    }
   ],
   "source": [
    "import plotly\n",
    "!pip install --upgrade nbformat\n"
   ]
  },
  {
   "cell_type": "code",
   "execution_count": 29,
   "id": "d3ae0524",
   "metadata": {
    "execution": {
     "iopub.execute_input": "2023-06-03T22:00:24.243122Z",
     "iopub.status.busy": "2023-06-03T22:00:24.242685Z",
     "iopub.status.idle": "2023-06-03T22:00:26.254508Z",
     "shell.execute_reply": "2023-06-03T22:00:26.253024Z"
    },
    "papermill": {
     "duration": 2.021718,
     "end_time": "2023-06-03T22:00:26.256035",
     "exception": true,
     "start_time": "2023-06-03T22:00:24.234317",
     "status": "failed"
    },
    "tags": []
   },
   "outputs": [],
   "source": [
    "import plotly.graph_objects as go\n",
    "\n",
    "PLOT = go.Figure()\n",
    "\n",
    "for i in data[\"Top Genre\"].unique():\n",
    "    PLOT.add_trace(go.Scatter3d(\n",
    "        x=data[data[\"Top Genre\"] == i]['Beats Per Minute (BPM)'],\n",
    "        y=data[data[\"Top Genre\"] == i]['Energy'],\n",
    "        z=data[data[\"Top Genre\"] == i]['Danceability'],\n",
    "        mode='markers',\n",
    "        marker=dict(size=6, line=dict(width=1)),  # Corrected marker syntax\n",
    "        name=str(i)\n",
    "    ))\n",
    "\n",
    "PLOT.update_traces(hovertemplate='Beats Per Minute (BPM): %{x} <br>Energy: %{y} <br>Danceability: %{z}')\n",
    "\n",
    "PLOT.update_layout(\n",
    "    width=800, height=800, autosize=True, showlegend=True,\n",
    "    scene=dict(\n",
    "        xaxis=dict(title=dict(text='Beats Per Minute (BPM)', font=dict(color='black'))),\n",
    "        yaxis=dict(title=dict(text='Energy', font=dict(color='black'))),\n",
    "        zaxis=dict(title=dict(text='Danceability', font=dict(color='black')))\n",
    "    ),\n",
    "    font=dict(family=\"Gilroy\", color='black', size=12)\n",
    ")\n",
    "\n",
    "PLOT.show(renderer=\"browser\")\n",
    "\n"
   ]
  }
 ],
 "metadata": {
  "kernelspec": {
   "display_name": "Python 3",
   "language": "python",
   "name": "python3"
  },
  "language_info": {
   "codemirror_mode": {
    "name": "ipython",
    "version": 3
   },
   "file_extension": ".py",
   "mimetype": "text/x-python",
   "name": "python",
   "nbconvert_exporter": "python",
   "pygments_lexer": "ipython3",
   "version": "3.12.1"
  },
  "papermill": {
   "default_parameters": {},
   "duration": 21.730661,
   "end_time": "2023-06-03T22:00:29.803940",
   "environment_variables": {},
   "exception": true,
   "input_path": "__notebook__.ipynb",
   "output_path": "__notebook__.ipynb",
   "parameters": {},
   "start_time": "2023-06-03T22:00:08.073279",
   "version": "2.4.0"
  }
 },
 "nbformat": 4,
 "nbformat_minor": 5
}
